{
 "cells": [
  {
   "cell_type": "markdown",
   "metadata": {},
   "source": [
    "## Connect-Four (“4 em Linha”) Game using Minimax with Alpha-Beta Cuts\n",
    "\n",
    "<img src=\"https://upload.wikimedia.org/wikipedia/en/7/79/Connect_4_Board_and_Box.jpg\" width=\"250px\" height=\"250px\" align=\"right\">\n",
    "\n",
    "A board game is characterized by the type of board and tiles, the rules of movement of the pieces (operators/possible moves) and the finishing conditions of the game with the respective score/result.\n",
    "\n",
    "The game called \"Connect Four\" in the English language version (“4 em Linha” in the Portuguese version - https://en.wikipedia.org/wiki/Connect_Four) is played on a vertical board of 7x6 squares (i.e., 7 squares wide and 6 squares high), by two players, to which are initially assigned 21 pieces to each (one of the players has white pieces and the other black pieces, or pieces \"X\" vs pieces \"O\").\n",
    "\n",
    "The two players play alternately one of their pieces. The piece to be played is placed on the top of the board and slides either to the base of the board, or in a cell immediately above another one already occupied (see previous figure). The winner will be the player who manages to obtain a line of 4 pieces of its color/symbol horizontally, vertically, or diagonally. If the 42 pieces are played without any player getting a line, the final result will be a draw."
   ]
  },
  {
   "cell_type": "code",
   "execution_count": null,
   "metadata": {},
   "outputs": [],
   "source": [
    "import random\n",
    "import time\n",
    "import numpy as np\n",
    "from copy import deepcopy\n",
    "\n",
    "NUM_ROWS = 6\n",
    "NUM_COLS = 7\n",
    "\n",
    "class State:\n",
    "    \n",
    "    def __init__(self):\n",
    "        # initialize the board info here and any additional variables\n",
    "        self.board = np.zeros((NUM_ROWS, NUM_COLS)) # board initial state (all zeros)\n",
    "        self.column_heights = [NUM_ROWS - 1] * NUM_COLS # useful to keep track of the index in which pieces should be inserted\n",
    "        self.available_moves = list(range(7)) # list of playable columns (not full)\n",
    "        self.player = 1\n",
    "        self.winner = -1 # -1 - no winner (during game); 0 - draw; 1- player 1; 2 - player 2\n",
    "        \n",
    "    def move(self, column): \n",
    "        # function that performs a move given the column number and returns the new state\n",
    "        # do not forget to update the available moves list, column heights, pass the turn and check for winners\n",
    "        state_copy = deepcopy(self)\n",
    "        \n",
    "        height = state_copy.column_heights[column]\n",
    "        state_copy.column_heights[column] = height\n",
    "        state_copy.board[height][column] = self.player\n",
    "        \n",
    "        if height == 0:\n",
    "            state_copy.available_moves.remove(column)\n",
    "        else:\n",
    "            state_copy.column_heights[column] = height - 1\n",
    "        \n",
    "        state_copy.update_winner() \n",
    "        state_copy.player = 3 - self.player # update player turn\n",
    "        \n",
    "        return state_copy\n",
    "    \n",
    "    def update_winner(self):\n",
    "        if self.count_line(4,1):\n",
    "            self.winner\n",
    "        # function that tests objective and update the winner accordingly\n",
    "        # sholud return 1, 2 or 0 (draw)\n",
    "        # Your Code Here\n",
    "\n",
    "    \n",
    "    def check_line(self, n, player, values):\n",
    "        num_pieces = sum(list(map(lambda val: val == player, values)))\n",
    "        if n == 4:\n",
    "            return num_pieces == 4\n",
    "        if n == 3:\n",
    "            num_empty_spaces = sum(list(map(lambda val: val == 0, values)))\n",
    "            return num_pieces == 3 and num_empty_spaces == 1\n",
    "    \n",
    "    # c1) c2)\n",
    "    def count_lines(self, n, player):\n",
    "        num_lines = 0\n",
    "        for row in range(NUM_ROWS):\n",
    "            for col in range(NUM_COLS):\n",
    "                if col < NUM_COLS - 3 and self.check_line(n, player, [self.board[row][col], self.board[row][col+1], self.board[row][col+2], self.board[row][col+3]]):\n",
    "                    num_lines += 1\n",
    "                if row < NUM_ROWS - 3 and self.check_line(n, player, [self.board[row][col], self.board[row+1][col], self.board[row+2][col], self.board[row+3][col]]):\n",
    "                    num_lines += 1\n",
    "                if row < NUM_ROWS - 3 and col < NUM_COLS - 3 and self.check_line(n, player, [self.board[row][col], self.board[row+1][col+1], self.board[row+2][col+2], self.board[row+3][col+3]]):\n",
    "                    num_lines += 1\n",
    "                if row < NUM_ROWS - 3 and col < NUM_COLS - 3 and self.check_line(n, player, [self.board[row][col], self.board[row-1][col+1], self.board[row-2][col+2], self.board[row-3][col+3]]):\n",
    "                    num_lines += 1\n",
    "        return num_lines\n",
    "    \n",
    "    # c3)\n",
    "    def central(self, player):\n",
    "        # Your Code Here\n",
    "\n",
    "class ConnectFourGame:\n",
    "    \n",
    "    def __init__(self, player_1_ai, player_2_ai):\n",
    "        self.state = State()\n",
    "        self.player_1_ai = player_1_ai\n",
    "        self.player_2_ai = player_2_ai\n",
    "        \n",
    "    def start(self, log_moves = False):\n",
    "        self.state = State()\n",
    "        while True:\n",
    "            if self.state.player == 1:\n",
    "                self.player_1_ai(self)\n",
    "            else:\n",
    "                self.player_2_ai(self)\n",
    "            \n",
    "            if log_moves:\n",
    "                print(game.state.board)\n",
    "            \n",
    "            if self.state.winner != -1:\n",
    "                break\n",
    "        \n",
    "        if self.state.winner == 0:\n",
    "            print(\"End of game! Draw!\")\n",
    "        else:\n",
    "            print(f\"End of game! Player {self.state.winner} wins!\")\n",
    "    \n",
    "    def run_n_matches(self, n, max_time = 3600, log_moves = False):\n",
    "        start_time = time.time()\n",
    "        \n",
    "        results = [0, 0, 0] # [draws, player 1 victories, player 2 victories]\n",
    "        \n",
    "        # Your Code Here\n",
    "     \n",
    "        print(\"\\n=== Elapsed time: %s seconds ===\" % (int(time.time() - start_time)))\n",
    "        print(f\"  Player 1: {results[1]} victories\")\n",
    "        print(f\"  Player 2: {results[2]} victories\")\n",
    "        print(f\"  Draws: {results[0]} \")\n",
    "        print(\"===============================\")\n",
    "               \n",
    "\"\"\" \n",
    "    Heuristic functions - e)\n",
    "\"\"\"\n",
    "\n",
    "def evaluate_f1(state):\n",
    "    return state.count_lines(4, 1) - state.count_lines(4, 2)\n",
    "\n",
    "def evaluate_f2(state):\n",
    "    return (state.count_lines(4, 1) - state.count_lines(4, 2)) * 100 + state.count_lines(3, 1) - state.count_lines(3, 2)\n",
    "\n",
    "def evaluate_f3(state):\n",
    "    return 100 * evaluate_f1(state) + state.central(1) - state.central(2)\n",
    "\n",
    "def evaluate_f4(state):\n",
    "    return 5 * evaluate_f2(state) + evaluate_f3(state)     \n",
    "\n",
    "\"\"\" \n",
    "    Move selection methods\n",
    "\"\"\"\n",
    "    \n",
    "def execute_random_move(game):\n",
    "    move = random.choice(game.state.available_moves)\n",
    "    game.state = game.state.move(move)\n",
    "    \n",
    "#def execute_minimax_move(evaluate_func, depth):\n",
    "\n",
    "        # Your Code Here\n",
    "\n",
    "#def minimax(state, depth, alpha, beta, maximizing, player, evaluate_func):\n",
    "        # Your Code Here\n"
   ]
  },
  {
   "cell_type": "code",
   "execution_count": null,
   "metadata": {},
   "outputs": [],
   "source": [
    "# Random vs random\n",
    "game = ConnectFourGame(execute_random_move, execute_random_move)\n",
    "game.run_n_matches(10, 120, False)"
   ]
  },
  {
   "cell_type": "code",
   "execution_count": null,
   "metadata": {},
   "outputs": [],
   "source": [
    "# Minimax (f1, depth = 2) vs random\n",
    "game = ConnectFourGame(execute_minimax_move(evaluate_f1, 2), execute_random_move)\n",
    "game.run_n_matches(10, 120)"
   ]
  },
  {
   "cell_type": "code",
   "execution_count": null,
   "metadata": {},
   "outputs": [],
   "source": [
    "# Minimax (f2, depth = 2) vs random\n",
    "game = ConnectFourGame(execute_minimax_move(evaluate_f2, 2), execute_random_move)\n",
    "game.run_n_matches(10, 120)"
   ]
  },
  {
   "cell_type": "code",
   "execution_count": null,
   "metadata": {},
   "outputs": [],
   "source": [
    "# Minimax (f3, depth = 2) vs random\n",
    "game = ConnectFourGame(execute_minimax_move(evaluate_f3, 2), execute_random_move)\n",
    "game.run_n_matches(10, 120)"
   ]
  },
  {
   "cell_type": "code",
   "execution_count": null,
   "metadata": {},
   "outputs": [],
   "source": [
    "# Minimax (f4, depth = 2) vs random\n",
    "game = ConnectFourGame(execute_minimax_move(evaluate_f4, 2), execute_random_move)\n",
    "game.run_n_matches(10, 120)"
   ]
  },
  {
   "cell_type": "code",
   "execution_count": null,
   "metadata": {},
   "outputs": [],
   "source": [
    "# Minimax (f1, depth = 2) vs Minimax (f4, depth = 2)\n",
    "game = ConnectFourGame(execute_minimax_move(evaluate_f1, 2), execute_minimax_move(evaluate_f4, 2))\n",
    "game.run_n_matches(5, 120)"
   ]
  },
  {
   "cell_type": "code",
   "execution_count": null,
   "metadata": {},
   "outputs": [],
   "source": [
    "# Minimax (f4, depth = 2) vs Minimax (f4, depth = 4)\n",
    "game = ConnectFourGame(execute_minimax_move(evaluate_f4, 2), execute_minimax_move(evaluate_f4, 4))\n",
    "game.run_n_matches(3, 240, True)"
   ]
  },
  {
   "cell_type": "code",
   "execution_count": null,
   "metadata": {},
   "outputs": [],
   "source": []
  }
 ],
 "metadata": {
  "kernelspec": {
   "display_name": "Python 3",
   "language": "python",
   "name": "python3"
  },
  "language_info": {
   "codemirror_mode": {
    "name": "ipython",
    "version": 3
   },
   "file_extension": ".py",
   "mimetype": "text/x-python",
   "name": "python",
   "nbconvert_exporter": "python",
   "pygments_lexer": "ipython3",
   "version": "3.10.10"
  },
  "vscode": {
   "interpreter": {
    "hash": "3e193216706fcfd2179f8c59ac323e59eaba0da00135a4ecaa2d971b584ded2f"
   }
  }
 },
 "nbformat": 4,
 "nbformat_minor": 4
}
