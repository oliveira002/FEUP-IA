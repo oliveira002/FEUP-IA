{
 "cells": [
  {
   "cell_type": "markdown",
   "metadata": {},
   "source": [
    "# Artificial Intelligence\n",
    "## L.EIC – 3rd Year/2nd Semester\n",
    "### Exercise Sheet 1\n",
    "# Solving Problems by Searching"
   ]
  },
  {
   "cell_type": "markdown",
   "metadata": {},
   "source": [
    "## The Two Buckets Problem\n",
    "\n",
    "<img src=\"https://qph.cf2.quoracdn.net/main-qimg-45726b16b460cae0147ae8ca245a8fb0-pjlq\" width=\"250px\" height=\"250px\" align=\"right\">\n",
    "\n",
    "Two buckets of capacities **c1** (e.g. 4 liters) and **c2** (e.g. 3 liters), respectively, are initially empty. The buckets do not have any intermediate markings. The only operations you can perform are:\n",
    "\n",
    "- Fill (completely) a bucket \n",
    "- Empty a bucket.\n",
    "- Pour one bucket into the other (until the target one is full or the source one is empty).\n",
    "\n",
    "The aim is to determine which operations to carry out so that the first bucket contains exactly **n** liters (e.g. 2 litres)."
   ]
  },
  {
   "cell_type": "markdown",
   "metadata": {},
   "source": [
    "Formulate this problem as a search problem by defining the state representation, initial state, operators (their name, preconditions, effects, and cost), and objective test."
   ]
  },
  {
   "cell_type": "raw",
   "metadata": {},
   "source": [
    "State Space:\n",
    "    Initial State:\n",
    "    A & B - Empty\n",
    "\n",
    "    Successor Operators       Preconditions                        Effects                      Cost\n",
    "    Fill A / B                Bucket being filled is not full      Desired Bucket is Full       1\n",
    "    Empty A/B                 Bucket is not Empty                  Desired Bucket is Empty      1\n",
    "    Pour A-B / B-A            Initial Bucket is not empty,         Either First bucket gets     1\n",
    "                              Final Bucket is not Full             Empty or Final Bucket Full\n",
    "\n",
    "Objective Test:\n",
    "In either A/B one bucket has exactly n litres.\n",
    "\n",
    "\n",
    "\n",
    "\n",
    "----------\n",
    "[W1/W2] W1: 0..4 W2: 0..3\n",
    "Initial State: [0/0]\n",
    "Objective: [2/_] or [NL/_]\n",
    "\n",
    "Operators:\n",
    "Emp1, Emp2, Fill1, Fill2, Pour12a, Pour12b, Pour21a, Pour21b\n",
    "Emp1, Emp2, Fill1, Fill2, Por12, Pour21"
   ]
  },
  {
   "cell_type": "markdown",
   "metadata": {},
   "source": [
    "What is the size of the state space for this problem? Represent the state space by drawing the possible objective states and displaying some of the possible transitions from the initial state."
   ]
  },
  {
   "cell_type": "raw",
   "metadata": {},
   "source": [
    "Bucket [0..4] -> 5 possibilities\n",
    "Bucket [0..3] -> 4 possibilities\n",
    "5 * 4 = 20\n"
   ]
  },
  {
   "cell_type": "markdown",
   "metadata": {},
   "source": [
    "Solve the problem by hand, using tree search. What solutions have you found?"
   ]
  },
  {
   "cell_type": "raw",
   "metadata": {},
   "source": [
    "\n",
    "\n"
   ]
  },
  {
   "cell_type": "markdown",
   "metadata": {},
   "source": [
    "### Buildind a computational approach to handle the problem\n",
    "\n",
    "To build a program to solve the buckets problem, we will implement a solution that separates the problem definition from the algorithms used to traverse the state space. This way, we can reuse our implementations of the search strategies in other problems."
   ]
  },
  {
   "cell_type": "markdown",
   "metadata": {},
   "source": [
    "#### Representing the two buckets problem as a search problem\n",
    "\n",
    "Let's start by defining a state for the buckets problem. For that, it'll suffice to aggregate two quantities, each representing the amount of water in one of the buckets. We also define a way of printing the state."
   ]
  },
  {
   "cell_type": "code",
   "execution_count": 51,
   "metadata": {},
   "outputs": [],
   "source": [
    "class BucketState:\n",
    "    c1 = 4   # capacity for bucket 1\n",
    "    c2 = 3   # capacity for bucket 2\n",
    "    \n",
    "    def __init__(self, b1, b2):\n",
    "        self.b1 = b1\n",
    "        self.b2 = b2\n",
    "\n",
    "    '''needed for the visited list'''\n",
    "    def __eq__(self, other):\n",
    "        if isinstance(other, self.__class__):\n",
    "            return self.__dict__ == other.__dict__\n",
    "        else:\n",
    "            return False\n",
    "\n",
    "    def __ne__(self, other):\n",
    "        \"\"\"Overrides the default implementation (unnecessary in Python 3)\"\"\"\n",
    "        return not self.__eq__(other)\n",
    "    \n",
    "    def __hash__(self):\n",
    "        return hash((self.b1, self.b2)) \n",
    "    ''' - '''\n",
    "\n",
    "    def __str__(self):\n",
    "        return \"(\" + str(self.b1) + \", \" + str(self.b2) + \")\""
   ]
  },
  {
   "cell_type": "markdown",
   "metadata": {},
   "source": [
    "Now we define each of the operators on states:"
   ]
  },
  {
   "cell_type": "code",
   "execution_count": 52,
   "metadata": {},
   "outputs": [],
   "source": [
    "# emptying the first bucket\n",
    "def empty1(state):\n",
    "    if state.b1 > 0:\n",
    "        return BucketState(0, state.b2)\n",
    "    return None\n",
    "\n",
    "# emptying the second bucket\n",
    "def empty2(state):\n",
    "    if state.b2 > 0:\n",
    "        return BucketState(state.b1,0)\n",
    "    return None\n",
    "\n",
    "def fill1(state):\n",
    "    if state.b1 < BucketState.c1:\n",
    "        return BucketState(BucketState.c1,state.b2)\n",
    "    return None\n",
    "\n",
    "def fill2(state):\n",
    "    if state.b2 < BucketState.c2:\n",
    "        return BucketState(state.b1,BucketState.c2)\n",
    "    return None\n",
    "\n",
    "def pour12_fill2(state):\n",
    "    if state.b1 > 0 and state.b2 < BucketState.c2 and state.b1  >= BucketState.c2 - state.b2:\n",
    "        return BucketState(state.b1 - (BucketState.c2 - state.b2),BucketState.c2)\n",
    "    return None\n",
    "\n",
    "def pour12_empty1(state):\n",
    "    if state.b1 > 0 and state.b2 < BucketState.c2 and state.b1 < BucketState.c2 - state.b2:\n",
    "        return BucketState(0,state.b2 + state.b1)\n",
    "    return None\n",
    "\n",
    "def pour21_fill1(state):\n",
    "    if state.b2 > 0 and state.b1 < BucketState.c1 and state.b2 >= BucketState.c1 - state.b1:\n",
    "        return BucketState(BucketState.c1,state.b2 - (BucketState.c1 - state.b1))\n",
    "    return None\n",
    "\n",
    "def pour21_empty2(state):\n",
    "    if state.b2 > 0 and state.b1 < BucketState.c1 and state.b2 < BucketState.c1 - state.b1:\n",
    "        return BucketState(state.b2 + state.b1,0)\n",
    "    return None\n",
    "# your code here\n"
   ]
  },
  {
   "cell_type": "markdown",
   "metadata": {},
   "source": [
    "The following function will aggregate all states that can be generated from a given one:"
   ]
  },
  {
   "cell_type": "code",
   "execution_count": 53,
   "metadata": {},
   "outputs": [],
   "source": [
    "def child_bucket_states(state):\n",
    "    new_states = []\n",
    "    if(empty1(state)):\n",
    "        new_states.append(empty1(state))\n",
    "    if(empty2(state)):\n",
    "        new_states.append(empty2(state))\n",
    "    if(fill1(state)):\n",
    "        new_states.append(fill1(state))\n",
    "    if(fill2(state)):\n",
    "        new_states.append(fill2(state))\n",
    "    if(pour12_fill2(state)):\n",
    "        new_states.append(pour12_fill2(state))\n",
    "    if(pour12_empty1(state)):\n",
    "        new_states.append(pour12_empty1(state))\n",
    "    if(pour21_fill1(state)):\n",
    "        new_states.append(pour21_fill1(state))\n",
    "    if(pour21_empty2(state)):\n",
    "        new_states.append(pour21_empty2(state))\n",
    "    return new_states"
   ]
  },
  {
   "cell_type": "markdown",
   "metadata": {},
   "source": [
    "Play around with the state transition operators and check if they are working properly:"
   ]
  },
  {
   "cell_type": "code",
   "execution_count": 54,
   "metadata": {},
   "outputs": [
    {
     "name": "stdout",
     "output_type": "stream",
     "text": [
      "(0, 0)\n",
      "(4, 3)\n",
      "(1, 3)\n"
     ]
    }
   ],
   "source": [
    "s = BucketState(0, 0)\n",
    "s = fill1(s)\n",
    "\n",
    "\n",
    "states = child_bucket_states(BucketState(4, 0))\n",
    "for i in states:\n",
    "    print(i)\n",
    "\n",
    "# your code here\n"
   ]
  },
  {
   "cell_type": "markdown",
   "metadata": {},
   "source": [
    "Finally, we need to define the goal condition:"
   ]
  },
  {
   "cell_type": "code",
   "execution_count": 55,
   "metadata": {},
   "outputs": [],
   "source": [
    "def goal_bucket_state(state):\n",
    "    if(state.b1 == 2):\n",
    "        return True\n",
    "    return False"
   ]
  },
  {
   "cell_type": "markdown",
   "metadata": {},
   "source": [
    "Test your goal condition:"
   ]
  },
  {
   "cell_type": "code",
   "execution_count": 56,
   "metadata": {},
   "outputs": [
    {
     "name": "stdout",
     "output_type": "stream",
     "text": [
      "False\n",
      "True\n",
      "False\n"
     ]
    }
   ],
   "source": [
    "print(goal_bucket_state(BucketState(0,0)))\n",
    "print(goal_bucket_state(BucketState(2,0)))\n",
    "print(goal_bucket_state(BucketState(4,0)))\n"
   ]
  },
  {
   "cell_type": "markdown",
   "metadata": {},
   "source": [
    "#### Implementing search algorithms\n",
    "\n",
    "Let us start by defining an appropriate structure to represent a node in a search tree. Each tree node will include:\n",
    "- a state of the problem\n",
    "- a link to its parent (to allow traveling from a leaf node towards the root of the tree)\n",
    "- a list of child nodes"
   ]
  },
  {
   "cell_type": "code",
   "execution_count": 57,
   "metadata": {},
   "outputs": [],
   "source": [
    "# A generic definition of a tree node holding a state of the problem\n",
    "class TreeNode:\n",
    "    def __init__(self, state, parent=None):\n",
    "        self.state = state\n",
    "        self.parent = parent\n",
    "        self.children = []\n",
    "\n",
    "    def add_child(self, child_node):\n",
    "        self.children.append(child_node)\n",
    "        child_node.parent = self"
   ]
  },
  {
   "cell_type": "markdown",
   "metadata": {},
   "source": [
    "##### Breadth-first search\n",
    "\n",
    "Based on this structure, we can now implement breadth-first search. Note that we want the implementation to be independent of the problem at hand (in this case, the two buckets problem)."
   ]
  },
  {
   "cell_type": "code",
   "execution_count": 58,
   "metadata": {},
   "outputs": [],
   "source": [
    "from collections import deque\n",
    "\n",
    "def breadth_first_search(initial_state, goal_state_func, operators_func):\n",
    "    root = TreeNode(initial_state)   # create the root node in the search tree\n",
    "    queue = deque([root])\n",
    "    visited = set([initial_state])   # initialize the queue to store the nodes\n",
    "    \n",
    "    while queue:\n",
    "        node = queue.popleft()  # get first element in the queue\n",
    "        if goal_state_func(node.state):   # check goal state\n",
    "            return node\n",
    "        \n",
    "        for state in operators_func(node.state):\n",
    "            if state not in visited:   # go through next states\n",
    "                child = TreeNode(state=state, parent=node)\n",
    "                node.add_child(child)\n",
    "                queue.append(child)\n",
    "                visited.add(state)\n",
    "\n",
    "    return None"
   ]
  },
  {
   "cell_type": "markdown",
   "metadata": {},
   "source": [
    "We can now use this function to actually perform a breadth-first search on the buckets problem: we pass it the initial state, our goal condition function, and the function for obtaining child states."
   ]
  },
  {
   "cell_type": "code",
   "execution_count": 59,
   "metadata": {},
   "outputs": [
    {
     "name": "stdout",
     "output_type": "stream",
     "text": [
      "(2, 3)\n"
     ]
    }
   ],
   "source": [
    "goal = breadth_first_search(BucketState(0,0), \n",
    "                            goal_bucket_state, \n",
    "                            child_bucket_states)\n",
    "print(goal.state)"
   ]
  },
  {
   "cell_type": "markdown",
   "metadata": {},
   "source": [
    "In order to print the actual steps from the initial state to the last, we can take advantage of each node's link to its parent."
   ]
  },
  {
   "cell_type": "code",
   "execution_count": 60,
   "metadata": {},
   "outputs": [],
   "source": [
    "def print_solution(node):\n",
    "    lista = [node.state]\n",
    "    while(node.parent):\n",
    "        lista.append(node.parent.state)\n",
    "        node = node.parent\n",
    "    for i in reversed(lista):\n",
    "        print(i)\n",
    "    return"
   ]
  },
  {
   "cell_type": "markdown",
   "metadata": {},
   "source": [
    "Now we can print the solution:"
   ]
  },
  {
   "cell_type": "code",
   "execution_count": 61,
   "metadata": {},
   "outputs": [
    {
     "name": "stdout",
     "output_type": "stream",
     "text": [
      "(0, 0)\n",
      "(4, 0)\n",
      "(1, 3)\n",
      "(1, 0)\n",
      "(0, 1)\n",
      "(4, 1)\n",
      "(2, 3)\n"
     ]
    }
   ],
   "source": [
    "print_solution(goal)"
   ]
  },
  {
   "cell_type": "markdown",
   "metadata": {},
   "source": [
    "If we need a description for each of the employed operators, we could have each operation function return also such a description, and modify the TreeNode class so that each node also includes a description of the edge to get there. We leave that as an exercise after class."
   ]
  },
  {
   "cell_type": "markdown",
   "metadata": {},
   "source": [
    "##### Depth-first search\n",
    "\n",
    "Implement depth-first search (again, in a manner that is independent of the problem at hand). You can start from your breadth-first search implementation and with minor changes get an implementation for depth-first search."
   ]
  },
  {
   "cell_type": "code",
   "execution_count": 62,
   "metadata": {},
   "outputs": [],
   "source": [
    "from collections import deque\n",
    "def depth_first_search(initial_state, goal_state_func, operators_func):\n",
    "    root = TreeNode(initial_state)   # create the root node in the search tree\n",
    "    queue = deque([root])\n",
    "    visited = set([initial_state])   # initialize the queue to store the nodes\n",
    "    \n",
    "    while queue:\n",
    "        node = queue.pop()  # get first element in the queue\n",
    "        if goal_state_func(node.state):   # check goal state\n",
    "            return node\n",
    "\n",
    "        for state in operators_func(node.state):\n",
    "            if state not in visited: # go through next states\n",
    "                child = TreeNode(state=state, parent=node)\n",
    "                node.add_child(child)\n",
    "                queue.append(child)\n",
    "                visited.add(state)\n",
    "                \n",
    "    return None "
   ]
  },
  {
   "cell_type": "markdown",
   "metadata": {},
   "source": [
    "Test it on the two buckets problem."
   ]
  },
  {
   "cell_type": "code",
   "execution_count": 63,
   "metadata": {},
   "outputs": [
    {
     "name": "stdout",
     "output_type": "stream",
     "text": [
      "(0, 0)\n",
      "(0, 3)\n",
      "(3, 0)\n",
      "(3, 3)\n",
      "(4, 2)\n",
      "(0, 2)\n",
      "(2, 0)\n"
     ]
    }
   ],
   "source": [
    "goal = depth_first_search(BucketState(0,0), \n",
    "                            goal_bucket_state, \n",
    "                            child_bucket_states)\n",
    "print_solution(goal)"
   ]
  },
  {
   "cell_type": "markdown",
   "metadata": {},
   "source": [
    "If you are unable to get a solution, think about it: depth-first search is not a complete search method, and one of the reasons for that is if the state space contains cycles. As such, you need to make sure you avoid entering into a cycle by keeping a visited nodes list or set and checking that list whenever you generate a new state."
   ]
  },
  {
   "cell_type": "markdown",
   "metadata": {},
   "source": [
    "##### Depth-limited search\n",
    "\n",
    "Another way to make it work is to impose a depth limit to the problem. Implement depth-limited search."
   ]
  },
  {
   "cell_type": "code",
   "execution_count": 64,
   "metadata": {},
   "outputs": [],
   "source": [
    "#this can also be done by adding an attribute depth to the class, and if parent != None then depth = parent.depth + 1\n",
    "\n",
    "def depth_limited_search(initial_state, goal_state_func, operators_func, depth_limit):\n",
    "    root = TreeNode(initial_state)   # create the root node in the search tree\n",
    "    queue = deque([(root,0)])\n",
    "    visited = set([initial_state])   # initialize the queue to store the nodes\n",
    "    \n",
    "    while queue:\n",
    "        node, depth = queue.pop()\n",
    "        if goal_state_func(node.state):   # check goal state\n",
    "            return node\n",
    "        for state in operators_func(node.state):\n",
    "            if state not in visited and (depth + 1 <= depth_limit): # go through next states\n",
    "                child = TreeNode(state=state, parent=node)\n",
    "                node.add_child(child)\n",
    "                queue.append((child,depth+1))\n",
    "                visited.add(state)\n",
    "                \n",
    "    return None   # your code here\n",
    "    "
   ]
  },
  {
   "cell_type": "markdown",
   "metadata": {},
   "source": [
    "Test it on the two buckets problem."
   ]
  },
  {
   "cell_type": "code",
   "execution_count": 65,
   "metadata": {},
   "outputs": [
    {
     "name": "stdout",
     "output_type": "stream",
     "text": [
      "(0, 0)\n",
      "(0, 3)\n",
      "(3, 0)\n",
      "(3, 3)\n",
      "(4, 2)\n",
      "(0, 2)\n",
      "(2, 0)\n"
     ]
    }
   ],
   "source": [
    "goal = depth_limited_search(BucketState(0,0), \n",
    "                            goal_bucket_state, \n",
    "                            child_bucket_states,6)\n",
    "\n",
    "if goal == None:\n",
    "    print(\"No solution found within depth limit\")\n",
    "else:\n",
    "    print_solution(goal)\n"
   ]
  },
  {
   "cell_type": "markdown",
   "metadata": {},
   "source": [
    "##### Iterative deepening search\n",
    "\n",
    "Based on depth-limited, you can easily implement iterative-deepening search."
   ]
  },
  {
   "cell_type": "code",
   "execution_count": 66,
   "metadata": {},
   "outputs": [],
   "source": [
    "def iterative_deepening_search(initial_state, goal_state_func, operators_func, depth_limit):\n",
    "    for i in range(depth_limit):\n",
    "        goal = depth_limited_search(BucketState(0,0), goal_bucket_state, child_bucket_states,i)\n",
    "        if(goal != None):\n",
    "            print(f'Solution in {i} steps')\n",
    "            return goal\n",
    "    return None"
   ]
  },
  {
   "cell_type": "markdown",
   "metadata": {},
   "source": [
    "Again, test it on the two buckets problem."
   ]
  },
  {
   "cell_type": "code",
   "execution_count": 67,
   "metadata": {},
   "outputs": [
    {
     "name": "stdout",
     "output_type": "stream",
     "text": [
      "Solution in 6 steps\n",
      "(0, 0)\n",
      "(0, 3)\n",
      "(3, 0)\n",
      "(3, 3)\n",
      "(4, 2)\n",
      "(0, 2)\n",
      "(2, 0)\n"
     ]
    }
   ],
   "source": [
    "# your code here\n",
    "goal = iterative_deepening_search(BucketState(0,0), \n",
    "                            goal_bucket_state, \n",
    "                            child_bucket_states,8)\n",
    "\n",
    "if goal == None:\n",
    "    print(\"No solution found within depth limit\")\n",
    "else:\n",
    "    print_solution(goal)"
   ]
  },
  {
   "cell_type": "markdown",
   "metadata": {},
   "source": [
    "## The Missionaries and Cannibals Problem \n",
    "\n",
    "<img src=\"https://allfish24.files.wordpress.com/2016/09/gambar-1.jpg\">\n",
    "\n",
    "Three missionaries and three cannibals are on one of the banks of the river with a boat that only takes one or two people. The boat cannot travel the river alone.\n",
    "\n",
    "The goal is to find a way to get the six to the other bank of the river without ever leaving more cannibals than missionaries on one of the banks (even at the instant they leave/join the boat) during the process."
   ]
  },
  {
   "cell_type": "markdown",
   "metadata": {},
   "source": [
    "Formulate this problem as a search problem by defining the state representation, initial state, operators (their name, preconditions, effects, and cost), and objective test."
   ]
  },
  {
   "attachments": {},
   "cell_type": "markdown",
   "metadata": {},
   "source": [
    "~ Being N the initial number of Missionaires / Cannibals\n",
    "\n",
    "State:\n",
    "[M / C  / B] M: 0..N & C: 0..N & B: 0..1 => right side of river \n",
    "[N - M / N - C / abs(B - 1)] left side of the river\n",
    "\n",
    "Initial State:\n",
    "[3/3/1] on first bank\n",
    "\n",
    "Objective State:\n",
    "[0/0/_]\n",
    "\n",
    "Operators:                              Preconditions:                                                                    Effects:\n",
    "Move 1 Missionaire                      M - 1 >= C or M - 1 == 0, M > 0,(N - M + 1) >= (N - C)                            M = M - 1\n",
    "Move 1 Cannibal                         M >= C - 1, C > 0, (N - M) >= (N - C + 1) or N - M == 0                           C - 1\n",
    "Move 2 Missionaires                     M - 2 >= C, M > 1,(N - M + 2) >= (N - C)                                          M = M- 2\n",
    "Move 2 Cannibals                        M >= C - 2, C > 1,(N - M ) >= (N - C + 2)                                         C = C - 2\n",
    "Move 1 Missionaire & 1 Cannibal         M - 1 >= C -1, M > 0, C > 0, (N - M + 1) >= (N - C + 1)                           M = M - 1 & C = C - 1                                           "
   ]
  },
  {
   "cell_type": "code",
   "execution_count": 68,
   "metadata": {},
   "outputs": [
    {
     "name": "stdout",
     "output_type": "stream",
     "text": [
      "(3, 3, 1)\n",
      "(3, 1, 0)\n",
      "(3, 2, 1)\n",
      "(3, 0, 0)\n",
      "(3, 1, 1)\n",
      "(1, 1, 0)\n",
      "(2, 2, 1)\n",
      "(0, 2, 0)\n",
      "(0, 3, 1)\n",
      "(0, 1, 0)\n",
      "(0, 2, 1)\n",
      "(0, 0, 0)\n"
     ]
    }
   ],
   "source": [
    "class RiverState:\n",
    "    num = 3  # initial nr of missionaires/cannibals\n",
    "    \n",
    "    def __init__(self, m1, c1,b):\n",
    "        self.m1 = m1\n",
    "        self.c1 = c1\n",
    "        self.b = b\n",
    "\n",
    "    '''needed for the visited list'''\n",
    "    def __eq__(self, other):\n",
    "        if isinstance(other, self.__class__):\n",
    "            return self.__dict__ == other.__dict__\n",
    "        else:\n",
    "            return False\n",
    "\n",
    "    def __ne__(self, other):\n",
    "        \"\"\"Overrides the default implementation (unnecessary in Python 3)\"\"\"\n",
    "        return not self.__eq__(other)\n",
    "    \n",
    "    def __hash__(self):\n",
    "        return hash((self.m1, self.c1,self.b)) \n",
    "    ''' - '''\n",
    "\n",
    "    def __str__(self):\n",
    "        return \"(\" + str(self.m1) + \", \" + str(self.c1) + \", \" + str(self.b) + \")\"\n",
    "\n",
    "def move1Miss(state):\n",
    "    m2 = state.num - state.m1\n",
    "    c2 = state.num - state.c1\n",
    "    if (state.b == 1) and (state.m1 > 0) and (state.m1 - 1 >= state.c1) and (m2 + 1 >= c2):\n",
    "        return RiverState(state.m1 - 1,state.c1,0)\n",
    "    if (state.b == 0) and (m2 > 0) and (m2 - 1 >= c2) and (state.m1 + 1 >= state.c1):\n",
    "        return RiverState(state.m1 + 1,state.c1,1)\n",
    "    return None\n",
    "\n",
    "def move1Cannibal(state):\n",
    "    m2 = state.num - state.m1\n",
    "    c2 = state.num - state.c1\n",
    "    if(state.b == 1) and (state.c1 > 0) and (state.m1 >= state.c1 - 1 or state.m1 == 0) and (m2 >= c2 + 1 or m2 == 0):\n",
    "         return RiverState(state.m1,state.c1-1,0)\n",
    "    if(state.b == 0) and (c2 > 0) and (m2 >= c2 - 1 or m2 == 0) and (state.m1 >= state.c1 + 1 or state.m1 == 0):\n",
    "         return RiverState(state.m1,state.c1+1,1)\n",
    "    return None\n",
    "\n",
    "def move2Cannibal(state):\n",
    "    m2 = state.num - state.m1\n",
    "    c2 = state.num - state.c1\n",
    "    if(state.b == 1) and (state.c1 > 1) and (state.m1 >= state.c1 - 2 or state.m1 == 0) and (m2 >= c2 + 2 or m2 == 0):\n",
    "         return RiverState(state.m1,state.c1-2,0)\n",
    "    if(state.b == 0) and (c2 > 1) and (m2 >= c2 - 2 or m2 == 0) and (state.m1 >= state.c1 + 2 or state.m1 == 0):\n",
    "         return RiverState(state.m1,state.c1+2,1)\n",
    "    return None\n",
    "\n",
    "def move1Missionaire(state):\n",
    "    m2 = state.num - state.m1\n",
    "    c2 = state.num - state.c1\n",
    "    if(state.b == 1) and state.m1 > 0 and (state.m1 - 1 >= state.c1 or state.m1 - 1 == 0) and (m2 + 1 >= c2):\n",
    "        return RiverState(state.m1 - 1,state.c1,0)\n",
    "    if(state.b == 0) and m2 > 0 and (m2 - 1 >= c2 or m2 - 1 == 0) and (state.m1 + 1 >= state.c1):\n",
    "        return RiverState(state.m1 + 1,state.c1,0)\n",
    "\n",
    "def move2Missionaire(state):\n",
    "    m2 = state.num - state.m1\n",
    "    c2 = state.num - state.c1\n",
    "    if(state.b == 1) and state.m1 > 1 and (state.m1 - 2 >= state.c1 or state.m1 - 2 == 0) and (m2 + 2 >= c2):\n",
    "        return RiverState(state.m1 - 2,state.c1,0)\n",
    "    if(state.b == 0) and m2 > 1 and (m2 - 2 >= c2 or m2 - 2 == 0) and (state.m1 + 2 >= state.c1):\n",
    "        return RiverState(state.m1 + 2,state.c1,0)\n",
    "\n",
    "def moveBoth(state):\n",
    "    m2 = state.num - state.m1\n",
    "    c2 = state.num - state.c1\n",
    "    if(state.b == 1) and state.m1 > 0 and state.c1 > 0 and (state.m1 >= state.c1 or state.m1 - 1 == 0) and (m2 + 1 >= c2 + 1): \n",
    "        return RiverState(state.m1 - 1,state.c1 - 1,0)\n",
    "    if(state.b == 0) and m2 > 1 and c2 > 1 and (m2 >= c2 or m2 - 1 == 0) and (state.m1 + 1 >= state.c1 + 1):\n",
    "         return RiverState(state.m1 + 1,state.c1 + 1,1)\n",
    "\n",
    "def child_river_states(state):\n",
    "    lista = []\n",
    "    if(move1Cannibal(state)):\n",
    "        lista.append(move1Cannibal(state))\n",
    "    if(move2Cannibal(state)):\n",
    "        lista.append(move2Cannibal(state))\n",
    "    if(move1Missionaire(state)):\n",
    "        lista.append(move1Missionaire(state))\n",
    "    if(move2Missionaire(state)):\n",
    "        lista.append(move2Missionaire(state))\n",
    "    if(moveBoth(state)):\n",
    "        lista.append(moveBoth(state))\n",
    "    return lista\n",
    "\n",
    "def goal_river_state(state):\n",
    "    if(state.m1 == 0 and state.c1 == 0):\n",
    "        return True\n",
    "    return False\n",
    "\n",
    "\n",
    "\n",
    "goal = breadth_first_search(RiverState(3,3,1), \n",
    "                            goal_river_state, \n",
    "                            child_river_states)\n",
    "if(goal):\n",
    "   print_solution(goal)\n",
    "else:\n",
    "    print(\"No solution\")\n"
   ]
  },
  {
   "cell_type": "markdown",
   "metadata": {},
   "source": [
    "Solve the problem by hand, using tree search. What solutions have you found?"
   ]
  },
  {
   "cell_type": "raw",
   "metadata": {},
   "source": [
    "\n",
    "\n"
   ]
  },
  {
   "cell_type": "markdown",
   "metadata": {},
   "source": [
    "Represent the problem as a search problem and take advantage of the implemented search algorithms to find solutions!"
   ]
  },
  {
   "cell_type": "code",
   "execution_count": 69,
   "metadata": {},
   "outputs": [],
   "source": [
    "# your code here\n"
   ]
  }
 ],
 "metadata": {
  "kernelspec": {
   "display_name": "Python 3",
   "language": "python",
   "name": "python3"
  },
  "language_info": {
   "codemirror_mode": {
    "name": "ipython",
    "version": 3
   },
   "file_extension": ".py",
   "mimetype": "text/x-python",
   "name": "python",
   "nbconvert_exporter": "python",
   "pygments_lexer": "ipython3",
   "version": "3.10.6"
  },
  "vscode": {
   "interpreter": {
    "hash": "916dbcbb3f70747c44a77c7bcd40155683ae19c65e1c03b4aa3499c5328201f1"
   }
  }
 },
 "nbformat": 4,
 "nbformat_minor": 4
}
